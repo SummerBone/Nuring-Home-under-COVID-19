{
 "cells": [
  {
   "cell_type": "code",
   "execution_count": 1,
   "metadata": {},
   "outputs": [],
   "source": [
    "import pandas as pd\n",
    "import numpy as np"
   ]
  },
  {
   "cell_type": "code",
   "execution_count": 151,
   "metadata": {},
   "outputs": [
    {
     "data": {
      "text/plain": [
       "(9096, 88)"
      ]
     },
     "execution_count": 151,
     "metadata": {},
     "output_type": "execute_result"
    }
   ],
   "source": [
    "df=pd.read_csv('covid19_nursing_dta_2.csv')\n",
    "df.columns\n",
    "df.shape"
   ]
  },
  {
   "cell_type": "code",
   "execution_count": 152,
   "metadata": {},
   "outputs": [
    {
     "data": {
      "text/plain": [
       "Index(['Unnamed: 0', 'Federal Provider Number', 'Provider Phone Number',\n",
       "       'Provider SSA County', 'Provider County Name', 'Ownership Type',\n",
       "       'Number of Certified Beds', 'Average Number of Residents Per Day',\n",
       "       'Provider Type', 'Provider Resides in Hospital', 'Legal Business Name',\n",
       "       'Date First Approved to Provide Medicare and Medicaid services',\n",
       "       'Continuing Care Retirement Community', 'Special Focus Status',\n",
       "       'Abuse Icon', 'Most Recent Health Inspection More Than 2 Years Ago',\n",
       "       'Provider Changed Ownership in Last 12 Months',\n",
       "       'With a Resident and Family Council',\n",
       "       'Automatic Sprinkler Systems in All Required Areas', 'Overall Rating',\n",
       "       'Health Inspection Rating', 'QM Rating', 'Long-Stay QM Rating',\n",
       "       'Short-Stay QM Rating', 'Staffing Rating', 'RN Staffing Rating',\n",
       "       'Reported Nurse Aide Staffing Hours per Resident per Day',\n",
       "       'Reported LPN Staffing Hours per Resident per Day',\n",
       "       'Reported RN Staffing Hours per Resident per Day',\n",
       "       'Reported Licensed Staffing Hours per Resident per Day',\n",
       "       'Reported Total Nurse Staffing Hours per Resident per Day',\n",
       "       'Reported Physical Therapist Staffing Hours per Resident Per Day',\n",
       "       'Case-Mix Nurse Aide Staffing Hours per Resident per Day',\n",
       "       'Case-Mix LPN Staffing Hours per Resident per Day',\n",
       "       'Case-Mix RN Staffing Hours per Resident per Day',\n",
       "       'Case-Mix Total Nurse Staffing Hours per Resident per Day',\n",
       "       'Adjusted Nurse Aide Staffing Hours per Resident per Day',\n",
       "       'Adjusted LPN Staffing Hours per Resident per Day',\n",
       "       'Adjusted RN Staffing Hours per Resident per Day',\n",
       "       'Adjusted Total Nurse Staffing Hours per Resident per Day',\n",
       "       'Rating Cycle 1 Standard Survey Health Date',\n",
       "       'Rating Cycle 1 Total Number of Health Deficiencies',\n",
       "       'Rating Cycle 1 Number of Standard Health Deficiencies',\n",
       "       'Rating Cycle 1 Number of Complaint Health Deficiencies',\n",
       "       'Rating Cycle 1 Health Deficiency Score',\n",
       "       'Rating Cycle 1 Number of Health Revisits',\n",
       "       'Rating Cycle 1 Health Revisit Score',\n",
       "       'Rating Cycle 1 Total Health Score',\n",
       "       'Rating Cycle 2 Standard Health Survey Date',\n",
       "       'Rating Cycle 2 Total Number of Health Deficiencies',\n",
       "       'Rating Cycle 2 Number of Standard Health Deficiencies',\n",
       "       'Rating Cycle 2 Number of Complaint Health Deficiencies',\n",
       "       'Rating Cycle 2 Health Deficiency Score',\n",
       "       'Rating Cycle 2 Number of Health Revisits',\n",
       "       'Rating Cycle 2 Health Revisit Score',\n",
       "       'Rating Cycle 2 Total Health Score',\n",
       "       'Rating Cycle 3 Standard Health Survey Date',\n",
       "       'Rating Cycle 3 Total Number of Health Deficiencies',\n",
       "       'Rating Cycle 3 Number of Standard Health Deficiencies',\n",
       "       'Rating Cycle 3 Number of Complaint Health Deficiencies',\n",
       "       'Rating Cycle 3 Number of Health Revisits',\n",
       "       'Rating Cycle 3 Health Deficiency Score',\n",
       "       'Rating Cycle 3 Health Revisit Score',\n",
       "       'Rating Cycle 3 Total Health Score',\n",
       "       'Total Weighted Health Survey Score',\n",
       "       'Number of Facility Reported Incidents',\n",
       "       'Number of Substantiated Complaints', 'Number of Fines',\n",
       "       'Total Amount of Fines in Dollars', 'Number of Payment Denials',\n",
       "       'Total Number of Penalties', 'Location', 'Processing Date',\n",
       "       'Week Ending', 'Staff Total Confirmed COVID-19',\n",
       "       'Staff Total Suspected COVID-19', 'Staff Total COVID-19 Deaths',\n",
       "       'Total Resident Confirmed COVID-19 Cases Per 1,000 Residents',\n",
       "       'Total Resident COVID-19 Deaths Per 1,000 Residents',\n",
       "       'Total Residents COVID-19 Deaths as a Percentage of Confirmed COVID-19 Cases',\n",
       "       'date', 'One-Week Supply of N95 Masks',\n",
       "       'One-Week Supply of Surgical Masks',\n",
       "       'One-Week Supply of Eye Protection', 'One-Week Supply of Gowns',\n",
       "       'One-Week Supply of Gloves', 'One-Week Supply of Hand Sanitizer',\n",
       "       'Number of Ventilators in Use for COVID-19'],\n",
       "      dtype='object')"
      ]
     },
     "execution_count": 152,
     "metadata": {},
     "output_type": "execute_result"
    }
   ],
   "source": [
    "df.columns"
   ]
  },
  {
   "cell_type": "code",
   "execution_count": 159,
   "metadata": {},
   "outputs": [
    {
     "data": {
      "text/plain": [
       "(8942, 72)"
      ]
     },
     "execution_count": 159,
     "metadata": {},
     "output_type": "execute_result"
    }
   ],
   "source": [
    "df=df.drop(columns=['Unnamed: 0','Special Focus Status','One-Week Supply of N95 Masks','One-Week Supply of Surgical Masks','One-Week Supply of Eye Protection','One-Week Supply of Gowns','One-Week Supply of Gloves','One-Week Supply of Hand Sanitizer','Number of Ventilators in Use for COVID-19'])\n",
    "#drop over 100%percent death\n",
    "\n",
    "df.shape"
   ]
  },
  {
   "cell_type": "code",
   "execution_count": 160,
   "metadata": {},
   "outputs": [
    {
     "data": {
      "text/plain": [
       "(8942, 72)"
      ]
     },
     "execution_count": 160,
     "metadata": {},
     "output_type": "execute_result"
    }
   ],
   "source": [
    "df=df[df[\"Total Residents COVID-19 Deaths as a Percentage of Confirmed COVID-19 Cases\"]<100]\n",
    "df.shape"
   ]
  },
  {
   "cell_type": "code",
   "execution_count": 117,
   "metadata": {},
   "outputs": [
    {
     "data": {
      "text/plain": [
       "Index(['Federal Provider Number', 'Provider Phone Number',\n",
       "       'Provider SSA County', 'Provider County Name', 'Ownership Type',\n",
       "       'Number of Certified Beds', 'Average Number of Residents Per Day',\n",
       "       'Provider Type', 'Provider Resides in Hospital', 'Legal Business Name',\n",
       "       'Date First Approved to Provide Medicare and Medicaid services',\n",
       "       'Continuing Care Retirement Community', 'Abuse Icon',\n",
       "       'Most Recent Health Inspection More Than 2 Years Ago',\n",
       "       'Provider Changed Ownership in Last 12 Months',\n",
       "       'With a Resident and Family Council',\n",
       "       'Automatic Sprinkler Systems in All Required Areas', 'Overall Rating',\n",
       "       'Health Inspection Rating', 'QM Rating', 'Long-Stay QM Rating',\n",
       "       'Short-Stay QM Rating', 'Staffing Rating', 'RN Staffing Rating',\n",
       "       'Reported Nurse Aide Staffing Hours per Resident per Day',\n",
       "       'Reported LPN Staffing Hours per Resident per Day',\n",
       "       'Reported RN Staffing Hours per Resident per Day',\n",
       "       'Reported Licensed Staffing Hours per Resident per Day',\n",
       "       'Reported Total Nurse Staffing Hours per Resident per Day',\n",
       "       'Reported Physical Therapist Staffing Hours per Resident Per Day',\n",
       "       'Case-Mix Nurse Aide Staffing Hours per Resident per Day',\n",
       "       'Case-Mix LPN Staffing Hours per Resident per Day',\n",
       "       'Case-Mix RN Staffing Hours per Resident per Day',\n",
       "       'Case-Mix Total Nurse Staffing Hours per Resident per Day',\n",
       "       'Adjusted Nurse Aide Staffing Hours per Resident per Day',\n",
       "       'Adjusted LPN Staffing Hours per Resident per Day',\n",
       "       'Adjusted RN Staffing Hours per Resident per Day',\n",
       "       'Adjusted Total Nurse Staffing Hours per Resident per Day',\n",
       "       'Rating Cycle 1 Standard Survey Health Date',\n",
       "       'Rating Cycle 1 Total Number of Health Deficiencies',\n",
       "       'Rating Cycle 1 Number of Standard Health Deficiencies',\n",
       "       'Rating Cycle 1 Number of Complaint Health Deficiencies',\n",
       "       'Rating Cycle 1 Health Deficiency Score',\n",
       "       'Rating Cycle 1 Number of Health Revisits',\n",
       "       'Rating Cycle 1 Health Revisit Score',\n",
       "       'Rating Cycle 1 Total Health Score',\n",
       "       'Rating Cycle 2 Standard Health Survey Date',\n",
       "       'Rating Cycle 2 Total Number of Health Deficiencies',\n",
       "       'Rating Cycle 2 Number of Standard Health Deficiencies',\n",
       "       'Rating Cycle 2 Number of Complaint Health Deficiencies',\n",
       "       'Rating Cycle 2 Health Deficiency Score',\n",
       "       'Rating Cycle 2 Number of Health Revisits',\n",
       "       'Rating Cycle 2 Health Revisit Score',\n",
       "       'Rating Cycle 2 Total Health Score',\n",
       "       'Rating Cycle 3 Standard Health Survey Date',\n",
       "       'Rating Cycle 3 Total Number of Health Deficiencies',\n",
       "       'Rating Cycle 3 Number of Standard Health Deficiencies',\n",
       "       'Rating Cycle 3 Number of Complaint Health Deficiencies',\n",
       "       'Rating Cycle 3 Number of Health Revisits',\n",
       "       'Rating Cycle 3 Health Deficiency Score',\n",
       "       'Rating Cycle 3 Health Revisit Score',\n",
       "       'Rating Cycle 3 Total Health Score',\n",
       "       'Total Weighted Health Survey Score',\n",
       "       'Number of Facility Reported Incidents',\n",
       "       'Number of Substantiated Complaints', 'Number of Fines',\n",
       "       'Total Amount of Fines in Dollars', 'Number of Payment Denials',\n",
       "       'Total Number of Penalties', 'Location', 'Processing Date',\n",
       "       'Week Ending', 'Staff Total Confirmed COVID-19',\n",
       "       'Staff Total Suspected COVID-19', 'Staff Total COVID-19 Deaths',\n",
       "       'Total Resident Confirmed COVID-19 Cases Per 1,000 Residents',\n",
       "       'Total Resident COVID-19 Deaths Per 1,000 Residents',\n",
       "       'Total Residents COVID-19 Deaths as a Percentage of Confirmed COVID-19 Cases',\n",
       "       'date'],\n",
       "      dtype='object')"
      ]
     },
     "execution_count": 117,
     "metadata": {},
     "output_type": "execute_result"
    }
   ],
   "source": [
    "df.columns"
   ]
  },
  {
   "cell_type": "code",
   "execution_count": 118,
   "metadata": {},
   "outputs": [
    {
     "data": {
      "text/plain": [
       "dtype('O')"
      ]
     },
     "execution_count": 118,
     "metadata": {},
     "output_type": "execute_result"
    }
   ],
   "source": [
    "df['Rating Cycle 1 Total Number of Health Deficiencies'].dtype"
   ]
  },
  {
   "cell_type": "code",
   "execution_count": 119,
   "metadata": {},
   "outputs": [],
   "source": [
    "df['Rating Cycle 1 Total Number of Health Deficiencies']=pd.to_numeric(df['Rating Cycle 1 Total Number of Health Deficiencies'],errors='coerce')"
   ]
  },
  {
   "cell_type": "code",
   "execution_count": 120,
   "metadata": {},
   "outputs": [
    {
     "data": {
      "text/plain": [
       "dtype('float64')"
      ]
     },
     "execution_count": 120,
     "metadata": {},
     "output_type": "execute_result"
    }
   ],
   "source": [
    "df['Rating Cycle 1 Total Number of Health Deficiencies'].dtype"
   ]
  },
  {
   "cell_type": "code",
   "execution_count": 121,
   "metadata": {},
   "outputs": [],
   "source": [
    "df['Rating Cycle 1 Number of Standard Health Deficiencies']=pd.to_numeric(df['Rating Cycle 1 Number of Standard Health Deficiencies'],errors='coerce')"
   ]
  },
  {
   "cell_type": "code",
   "execution_count": 122,
   "metadata": {},
   "outputs": [],
   "source": [
    "df['Rating Cycle 1 Number of Complaint Health Deficiencies']=pd.to_numeric(df['Rating Cycle 1 Number of Complaint Health Deficiencies'],errors='coerce')"
   ]
  },
  {
   "cell_type": "code",
   "execution_count": 123,
   "metadata": {},
   "outputs": [],
   "source": [
    "df['Rating Cycle 1 Health Deficiency Score']=pd.to_numeric(df['Rating Cycle 1 Health Deficiency Score'],errors='coerce')"
   ]
  },
  {
   "cell_type": "code",
   "execution_count": 124,
   "metadata": {},
   "outputs": [],
   "source": [
    "df['Rating Cycle 1 Number of Health Revisits']=pd.to_numeric(df['Rating Cycle 1 Number of Health Revisits'],errors='coerce')"
   ]
  },
  {
   "cell_type": "code",
   "execution_count": 125,
   "metadata": {},
   "outputs": [],
   "source": [
    "df['Rating Cycle 1 Health Revisit Score']=pd.to_numeric(df['Rating Cycle 1 Health Revisit Score'],errors='coerce')"
   ]
  },
  {
   "cell_type": "code",
   "execution_count": 126,
   "metadata": {},
   "outputs": [],
   "source": [
    "df['Rating Cycle 1 Total Health Score']=pd.to_numeric(df['Rating Cycle 1 Total Health Score'],errors='coerce')"
   ]
  },
  {
   "cell_type": "code",
   "execution_count": 127,
   "metadata": {},
   "outputs": [],
   "source": [
    "df['Rating Cycle 2 Total Number of Health Deficiencies']=pd.to_numeric(df['Rating Cycle 2 Total Number of Health Deficiencies'],errors='coerce')"
   ]
  },
  {
   "cell_type": "code",
   "execution_count": 128,
   "metadata": {},
   "outputs": [],
   "source": [
    "df['Rating Cycle 2 Number of Standard Health Deficiencies']=pd.to_numeric(df['Rating Cycle 2 Number of Standard Health Deficiencies'],errors='coerce')"
   ]
  },
  {
   "cell_type": "code",
   "execution_count": 129,
   "metadata": {},
   "outputs": [],
   "source": [
    "df['Rating Cycle 2 Number of Complaint Health Deficiencies']=pd.to_numeric(df['Rating Cycle 2 Number of Complaint Health Deficiencies'],errors='coerce')"
   ]
  },
  {
   "cell_type": "code",
   "execution_count": 130,
   "metadata": {},
   "outputs": [],
   "source": [
    "df['Rating Cycle 2 Health Deficiency Score']=pd.to_numeric(df['Rating Cycle 2 Health Deficiency Score'],errors='coerce')"
   ]
  },
  {
   "cell_type": "code",
   "execution_count": 131,
   "metadata": {},
   "outputs": [],
   "source": [
    "df['Rating Cycle 2 Number of Health Revisits']=pd.to_numeric(df['Rating Cycle 2 Number of Health Revisits'],errors='coerce')"
   ]
  },
  {
   "cell_type": "code",
   "execution_count": 132,
   "metadata": {},
   "outputs": [],
   "source": [
    "df['Rating Cycle 2 Health Revisit Score']=pd.to_numeric(df['Rating Cycle 2 Health Revisit Score'],errors='coerce')"
   ]
  },
  {
   "cell_type": "code",
   "execution_count": 133,
   "metadata": {},
   "outputs": [],
   "source": [
    "df['Rating Cycle 2 Total Health Score']=pd.to_numeric(df['Rating Cycle 2 Total Health Score'],errors='coerce')"
   ]
  },
  {
   "cell_type": "code",
   "execution_count": 144,
   "metadata": {},
   "outputs": [
    {
     "data": {
      "text/plain": [
       "dtype('float64')"
      ]
     },
     "execution_count": 144,
     "metadata": {},
     "output_type": "execute_result"
    }
   ],
   "source": [
    "df['Rating Cycle 2 Total Health Score'].dtype"
   ]
  },
  {
   "cell_type": "code",
   "execution_count": 134,
   "metadata": {},
   "outputs": [],
   "source": [
    "df['Rating Cycle 3 Total Number of Health Deficiencies']=pd.to_numeric(df['Rating Cycle 3 Total Number of Health Deficiencies'],errors='coerce')"
   ]
  },
  {
   "cell_type": "code",
   "execution_count": 135,
   "metadata": {},
   "outputs": [],
   "source": [
    "df['Rating Cycle 3 Number of Standard Health Deficiencies']=pd.to_numeric(df['Rating Cycle 3 Number of Standard Health Deficiencies'],errors='coerce')"
   ]
  },
  {
   "cell_type": "code",
   "execution_count": 136,
   "metadata": {},
   "outputs": [],
   "source": [
    "df['Rating Cycle 3 Number of Complaint Health Deficiencies']=pd.to_numeric(df['Rating Cycle 3 Number of Complaint Health Deficiencies'],errors='coerce')"
   ]
  },
  {
   "cell_type": "code",
   "execution_count": 137,
   "metadata": {},
   "outputs": [],
   "source": [
    "df['Rating Cycle 3 Health Deficiency Score']=pd.to_numeric(df['Rating Cycle 3 Health Deficiency Score'],errors='coerce')"
   ]
  },
  {
   "cell_type": "code",
   "execution_count": 138,
   "metadata": {},
   "outputs": [],
   "source": [
    "df['Rating Cycle 3 Number of Health Revisits']=pd.to_numeric(df['Rating Cycle 3 Number of Health Revisits'],errors='coerce')"
   ]
  },
  {
   "cell_type": "code",
   "execution_count": 139,
   "metadata": {},
   "outputs": [],
   "source": [
    "df['Rating Cycle 3 Health Revisit Score']=pd.to_numeric(df['Rating Cycle 3 Health Revisit Score'],errors='coerce')"
   ]
  },
  {
   "cell_type": "code",
   "execution_count": 140,
   "metadata": {},
   "outputs": [],
   "source": [
    "df['Rating Cycle 3 Total Health Score']=pd.to_numeric(df['Rating Cycle 3 Total Health Score'],errors='coerce')"
   ]
  },
  {
   "cell_type": "code",
   "execution_count": 141,
   "metadata": {},
   "outputs": [],
   "source": [
    "#df.to_csv('cleanData.csv', sep=',', encoding='utf-8')"
   ]
  },
  {
   "cell_type": "code",
   "execution_count": 145,
   "metadata": {},
   "outputs": [
    {
     "data": {
      "text/plain": [
       "(8942, 79)"
      ]
     },
     "execution_count": 145,
     "metadata": {},
     "output_type": "execute_result"
    }
   ],
   "source": [
    "df.shape"
   ]
  },
  {
   "cell_type": "code",
   "execution_count": 161,
   "metadata": {},
   "outputs": [
    {
     "data": {
      "text/plain": [
       "(8942, 80)"
      ]
     },
     "execution_count": 161,
     "metadata": {},
     "output_type": "execute_result"
    }
   ],
   "source": [
    "df1=pd.read_csv('cleanData.csv')\n",
    "df1.columns\n",
    "df1.shape"
   ]
  },
  {
   "cell_type": "code",
   "execution_count": 162,
   "metadata": {},
   "outputs": [],
   "source": [
    "#feature selection "
   ]
  },
  {
   "cell_type": "code",
   "execution_count": null,
   "metadata": {},
   "outputs": [],
   "source": []
  },
  {
   "cell_type": "code",
   "execution_count": 163,
   "metadata": {},
   "outputs": [],
   "source": [
    "df1=df1.drop(columns=['Reported Nurse Aide Staffing Hours per Resident per Day','Reported RN Staffing Hours per Resident per Day','Reported Total Nurse Staffing Hours per Resident per Day','Number of Certified Beds','Overall Rating','QM Rating','Staffing Rating'])\n"
   ]
  },
  {
   "cell_type": "code",
   "execution_count": 164,
   "metadata": {},
   "outputs": [
    {
     "data": {
      "text/plain": [
       "(8942, 73)"
      ]
     },
     "execution_count": 164,
     "metadata": {},
     "output_type": "execute_result"
    }
   ],
   "source": [
    "df1.shape"
   ]
  },
  {
   "cell_type": "code",
   "execution_count": 165,
   "metadata": {},
   "outputs": [],
   "source": [
    "df.to_csv('selectedFeature.csv', sep=',', encoding='utf-8')"
   ]
  },
  {
   "cell_type": "code",
   "execution_count": 167,
   "metadata": {},
   "outputs": [
    {
     "data": {
      "text/html": [
       "<div>\n",
       "<style scoped>\n",
       "    .dataframe tbody tr th:only-of-type {\n",
       "        vertical-align: middle;\n",
       "    }\n",
       "\n",
       "    .dataframe tbody tr th {\n",
       "        vertical-align: top;\n",
       "    }\n",
       "\n",
       "    .dataframe thead th {\n",
       "        text-align: right;\n",
       "    }\n",
       "</style>\n",
       "<table border=\"1\" class=\"dataframe\">\n",
       "  <thead>\n",
       "    <tr style=\"text-align: right;\">\n",
       "      <th></th>\n",
       "      <th>Unnamed: 0</th>\n",
       "      <th>Federal Provider Number</th>\n",
       "      <th>Provider Phone Number</th>\n",
       "      <th>Provider SSA County</th>\n",
       "      <th>Provider County Name</th>\n",
       "      <th>Ownership Type</th>\n",
       "      <th>Average Number of Residents Per Day</th>\n",
       "      <th>Provider Type</th>\n",
       "      <th>Provider Resides in Hospital</th>\n",
       "      <th>Legal Business Name</th>\n",
       "      <th>...</th>\n",
       "      <th>Location</th>\n",
       "      <th>Processing Date</th>\n",
       "      <th>Week Ending</th>\n",
       "      <th>Staff Total Confirmed COVID-19</th>\n",
       "      <th>Staff Total Suspected COVID-19</th>\n",
       "      <th>Staff Total COVID-19 Deaths</th>\n",
       "      <th>Total Resident Confirmed COVID-19 Cases Per 1,000 Residents</th>\n",
       "      <th>Total Resident COVID-19 Deaths Per 1,000 Residents</th>\n",
       "      <th>Total Residents COVID-19 Deaths as a Percentage of Confirmed COVID-19 Cases</th>\n",
       "      <th>date</th>\n",
       "    </tr>\n",
       "  </thead>\n",
       "  <tbody>\n",
       "    <tr>\n",
       "      <th>0</th>\n",
       "      <td>0</td>\n",
       "      <td>015009</td>\n",
       "      <td>2.563324e+09</td>\n",
       "      <td>290.0</td>\n",
       "      <td>Franklin</td>\n",
       "      <td>For profit - Corporation</td>\n",
       "      <td>50.1</td>\n",
       "      <td>Medicare and Medicaid</td>\n",
       "      <td>False</td>\n",
       "      <td>BURNS NURSING HOME, INC.</td>\n",
       "      <td>...</td>\n",
       "      <td>701 MONROE STREET NW RUSSELLVILLE, AL 35653 (3...</td>\n",
       "      <td>09/01/2020</td>\n",
       "      <td>10/11/2020</td>\n",
       "      <td>41.0</td>\n",
       "      <td>14.0</td>\n",
       "      <td>0.0</td>\n",
       "      <td>941.2</td>\n",
       "      <td>98.0</td>\n",
       "      <td>10.4</td>\n",
       "      <td>2020-10-11</td>\n",
       "    </tr>\n",
       "    <tr>\n",
       "      <th>1</th>\n",
       "      <td>1</td>\n",
       "      <td>015010</td>\n",
       "      <td>2.562496e+09</td>\n",
       "      <td>600.0</td>\n",
       "      <td>Talladega</td>\n",
       "      <td>For profit - Corporation</td>\n",
       "      <td>74.8</td>\n",
       "      <td>Medicare and Medicaid</td>\n",
       "      <td>False</td>\n",
       "      <td>COOSA VALLEY HEALTHCARE CENTER LLC</td>\n",
       "      <td>...</td>\n",
       "      <td>260 WEST WALNUT STREET SYLACAUGA, AL 35150 (33...</td>\n",
       "      <td>09/01/2020</td>\n",
       "      <td>10/11/2020</td>\n",
       "      <td>9.0</td>\n",
       "      <td>42.0</td>\n",
       "      <td>0.0</td>\n",
       "      <td>109.4</td>\n",
       "      <td>31.3</td>\n",
       "      <td>28.6</td>\n",
       "      <td>2020-10-11</td>\n",
       "    </tr>\n",
       "    <tr>\n",
       "      <th>2</th>\n",
       "      <td>2</td>\n",
       "      <td>015012</td>\n",
       "      <td>2.562184e+09</td>\n",
       "      <td>350.0</td>\n",
       "      <td>Jackson</td>\n",
       "      <td>Government - County</td>\n",
       "      <td>46.9</td>\n",
       "      <td>Medicare and Medicaid</td>\n",
       "      <td>True</td>\n",
       "      <td>JACKSON COUNTY HEALTH CARE AUTHORITY</td>\n",
       "      <td>...</td>\n",
       "      <td>380 WOODS COVE ROAD SCOTTSBORO, AL 35768 (34.6...</td>\n",
       "      <td>09/01/2020</td>\n",
       "      <td>10/11/2020</td>\n",
       "      <td>8.0</td>\n",
       "      <td>37.0</td>\n",
       "      <td>0.0</td>\n",
       "      <td>54.1</td>\n",
       "      <td>0.0</td>\n",
       "      <td>0.0</td>\n",
       "      <td>2020-10-11</td>\n",
       "    </tr>\n",
       "    <tr>\n",
       "      <th>3</th>\n",
       "      <td>3</td>\n",
       "      <td>015014</td>\n",
       "      <td>2.058330e+09</td>\n",
       "      <td>360.0</td>\n",
       "      <td>Jefferson</td>\n",
       "      <td>For profit - Individual</td>\n",
       "      <td>82.8</td>\n",
       "      <td>Medicare and Medicaid</td>\n",
       "      <td>False</td>\n",
       "      <td>BALL HEALTHCARE EASTVIEW INC</td>\n",
       "      <td>...</td>\n",
       "      <td>7755 FOURTH AVENUE SOUTH BIRMINGHAM, AL 35206 ...</td>\n",
       "      <td>09/01/2020</td>\n",
       "      <td>10/11/2020</td>\n",
       "      <td>30.0</td>\n",
       "      <td>1.0</td>\n",
       "      <td>0.0</td>\n",
       "      <td>428.6</td>\n",
       "      <td>0.0</td>\n",
       "      <td>0.0</td>\n",
       "      <td>2020-10-11</td>\n",
       "    </tr>\n",
       "    <tr>\n",
       "      <th>4</th>\n",
       "      <td>4</td>\n",
       "      <td>015016</td>\n",
       "      <td>2.562322e+09</td>\n",
       "      <td>410.0</td>\n",
       "      <td>Limestone</td>\n",
       "      <td>For profit - Corporation</td>\n",
       "      <td>126.5</td>\n",
       "      <td>Medicare and Medicaid</td>\n",
       "      <td>False</td>\n",
       "      <td>ATHENS HEALTH AND REHABILITATION LLC</td>\n",
       "      <td>...</td>\n",
       "      <td>611 WEST MARKET STREET ATHENS, AL 35611 (34.80...</td>\n",
       "      <td>09/01/2020</td>\n",
       "      <td>10/11/2020</td>\n",
       "      <td>15.0</td>\n",
       "      <td>25.0</td>\n",
       "      <td>0.0</td>\n",
       "      <td>25.2</td>\n",
       "      <td>0.0</td>\n",
       "      <td>0.0</td>\n",
       "      <td>2020-10-11</td>\n",
       "    </tr>\n",
       "  </tbody>\n",
       "</table>\n",
       "<p>5 rows × 73 columns</p>\n",
       "</div>"
      ],
      "text/plain": [
       "   Unnamed: 0 Federal Provider Number  Provider Phone Number  \\\n",
       "0           0                  015009           2.563324e+09   \n",
       "1           1                  015010           2.562496e+09   \n",
       "2           2                  015012           2.562184e+09   \n",
       "3           3                  015014           2.058330e+09   \n",
       "4           4                  015016           2.562322e+09   \n",
       "\n",
       "   Provider SSA County Provider County Name            Ownership Type  \\\n",
       "0                290.0             Franklin  For profit - Corporation   \n",
       "1                600.0            Talladega  For profit - Corporation   \n",
       "2                350.0              Jackson       Government - County   \n",
       "3                360.0            Jefferson   For profit - Individual   \n",
       "4                410.0            Limestone  For profit - Corporation   \n",
       "\n",
       "   Average Number of Residents Per Day          Provider Type  \\\n",
       "0                                 50.1  Medicare and Medicaid   \n",
       "1                                 74.8  Medicare and Medicaid   \n",
       "2                                 46.9  Medicare and Medicaid   \n",
       "3                                 82.8  Medicare and Medicaid   \n",
       "4                                126.5  Medicare and Medicaid   \n",
       "\n",
       "   Provider Resides in Hospital                   Legal Business Name  ...  \\\n",
       "0                         False              BURNS NURSING HOME, INC.  ...   \n",
       "1                         False    COOSA VALLEY HEALTHCARE CENTER LLC  ...   \n",
       "2                          True  JACKSON COUNTY HEALTH CARE AUTHORITY  ...   \n",
       "3                         False          BALL HEALTHCARE EASTVIEW INC  ...   \n",
       "4                         False  ATHENS HEALTH AND REHABILITATION LLC  ...   \n",
       "\n",
       "                                            Location  Processing Date  \\\n",
       "0  701 MONROE STREET NW RUSSELLVILLE, AL 35653 (3...       09/01/2020   \n",
       "1  260 WEST WALNUT STREET SYLACAUGA, AL 35150 (33...       09/01/2020   \n",
       "2  380 WOODS COVE ROAD SCOTTSBORO, AL 35768 (34.6...       09/01/2020   \n",
       "3  7755 FOURTH AVENUE SOUTH BIRMINGHAM, AL 35206 ...       09/01/2020   \n",
       "4  611 WEST MARKET STREET ATHENS, AL 35611 (34.80...       09/01/2020   \n",
       "\n",
       "   Week Ending Staff Total Confirmed COVID-19  Staff Total Suspected COVID-19  \\\n",
       "0   10/11/2020                           41.0                            14.0   \n",
       "1   10/11/2020                            9.0                            42.0   \n",
       "2   10/11/2020                            8.0                            37.0   \n",
       "3   10/11/2020                           30.0                             1.0   \n",
       "4   10/11/2020                           15.0                            25.0   \n",
       "\n",
       "  Staff Total COVID-19 Deaths  \\\n",
       "0                         0.0   \n",
       "1                         0.0   \n",
       "2                         0.0   \n",
       "3                         0.0   \n",
       "4                         0.0   \n",
       "\n",
       "  Total Resident Confirmed COVID-19 Cases Per 1,000 Residents  \\\n",
       "0                                              941.2            \n",
       "1                                              109.4            \n",
       "2                                               54.1            \n",
       "3                                              428.6            \n",
       "4                                               25.2            \n",
       "\n",
       "   Total Resident COVID-19 Deaths Per 1,000 Residents  \\\n",
       "0                                               98.0    \n",
       "1                                               31.3    \n",
       "2                                                0.0    \n",
       "3                                                0.0    \n",
       "4                                                0.0    \n",
       "\n",
       "   Total Residents COVID-19 Deaths as a Percentage of Confirmed COVID-19 Cases  \\\n",
       "0                                               10.4                             \n",
       "1                                               28.6                             \n",
       "2                                                0.0                             \n",
       "3                                                0.0                             \n",
       "4                                                0.0                             \n",
       "\n",
       "         date  \n",
       "0  2020-10-11  \n",
       "1  2020-10-11  \n",
       "2  2020-10-11  \n",
       "3  2020-10-11  \n",
       "4  2020-10-11  \n",
       "\n",
       "[5 rows x 73 columns]"
      ]
     },
     "execution_count": 167,
     "metadata": {},
     "output_type": "execute_result"
    }
   ],
   "source": [
    "df1.head()"
   ]
  },
  {
   "cell_type": "code",
   "execution_count": 170,
   "metadata": {},
   "outputs": [
    {
     "ename": "AttributeError",
     "evalue": "'str' object has no attribute 'unique'",
     "output_type": "error",
     "traceback": [
      "\u001b[0;31m---------------------------------------------------------------------------\u001b[0m",
      "\u001b[0;31mAttributeError\u001b[0m                            Traceback (most recent call last)",
      "\u001b[0;32m<ipython-input-170-78d546201e2e>\u001b[0m in \u001b[0;36m<module>\u001b[0;34m\u001b[0m\n\u001b[1;32m      1\u001b[0m \u001b[0;32mfor\u001b[0m \u001b[0md\u001b[0m \u001b[0;32min\u001b[0m \u001b[0mdf1\u001b[0m\u001b[0;34m:\u001b[0m\u001b[0;34m\u001b[0m\u001b[0;34m\u001b[0m\u001b[0m\n\u001b[0;32m----> 2\u001b[0;31m     \u001b[0mprint\u001b[0m\u001b[0;34m(\u001b[0m\u001b[0md\u001b[0m\u001b[0;34m.\u001b[0m\u001b[0munique\u001b[0m\u001b[0;34m(\u001b[0m\u001b[0;34m)\u001b[0m\u001b[0;34m)\u001b[0m\u001b[0;34m\u001b[0m\u001b[0;34m\u001b[0m\u001b[0m\n\u001b[0m",
      "\u001b[0;31mAttributeError\u001b[0m: 'str' object has no attribute 'unique'"
     ]
    }
   ],
   "source": []
  },
  {
   "cell_type": "code",
   "execution_count": null,
   "metadata": {},
   "outputs": [],
   "source": []
  },
  {
   "cell_type": "code",
   "execution_count": null,
   "metadata": {},
   "outputs": [],
   "source": []
  },
  {
   "cell_type": "code",
   "execution_count": null,
   "metadata": {},
   "outputs": [],
   "source": []
  },
  {
   "cell_type": "code",
   "execution_count": null,
   "metadata": {},
   "outputs": [],
   "source": []
  },
  {
   "cell_type": "code",
   "execution_count": null,
   "metadata": {},
   "outputs": [],
   "source": []
  },
  {
   "cell_type": "code",
   "execution_count": null,
   "metadata": {},
   "outputs": [],
   "source": []
  },
  {
   "cell_type": "code",
   "execution_count": null,
   "metadata": {},
   "outputs": [],
   "source": []
  }
 ],
 "metadata": {
  "kernelspec": {
   "display_name": "Python 3",
   "language": "python",
   "name": "python3"
  },
  "language_info": {
   "codemirror_mode": {
    "name": "ipython",
    "version": 3
   },
   "file_extension": ".py",
   "mimetype": "text/x-python",
   "name": "python",
   "nbconvert_exporter": "python",
   "pygments_lexer": "ipython3",
   "version": "3.7.7"
  }
 },
 "nbformat": 4,
 "nbformat_minor": 4
}
