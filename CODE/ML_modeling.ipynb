{
 "cells": [
  {
   "cell_type": "code",
   "execution_count": 1,
   "metadata": {},
   "outputs": [],
   "source": [
    "import pandas as pd\n",
    "import numpy as np\n",
    "from sklearn.model_selection import train_test_split\n",
    "from sklearn import metrics\n",
    "from sklearn.metrics import confusion_matrix,accuracy_score, classification_report\n",
    "from sklearn.metrics import mean_squared_error\n",
    "import matplotlib.pyplot as plt"
   ]
  },
  {
   "cell_type": "code",
   "execution_count": 2,
   "metadata": {},
   "outputs": [
    {
     "data": {
      "text/plain": [
       "(7704, 63)"
      ]
     },
     "execution_count": 2,
     "metadata": {},
     "output_type": "execute_result"
    }
   ],
   "source": [
    "data=pd.read_csv(\"select_feature_quantile.csv\")\n",
    "data=data.drop(columns=['Unnamed: 0','Unnamed: 0.1','Federal Provider Number','Provider Phone Number','Location','Legal Business Name','Rating Cycle 1 Standard Survey Health Date',\n",
    "                       'Rating Cycle 2 Standard Health Survey Date','Rating Cycle 3 Standard Health Survey Date',\n",
    "                       'Processing Date','Week Ending','date'])\n",
    "data=data.dropna()\n",
    "data = data.applymap(lambda x: 0 if x == \".\" else x)\n",
    "data[\"Total Residents COVID-19 Deaths as a Percentage of Confirmed COVID-19 Cases\"].describe()\n",
    "data.shape"
   ]
  },
  {
   "cell_type": "code",
   "execution_count": 3,
   "metadata": {},
   "outputs": [
    {
     "data": {
      "text/plain": [
       "(7704, 53)"
      ]
     },
     "execution_count": 3,
     "metadata": {},
     "output_type": "execute_result"
    }
   ],
   "source": [
    "data=data.drop(columns=['Provider SSA County','Provider County Name','Provider Resides in Hospital','Provider Type',\n",
    "                        'Date First Approved to Provide Medicare and Medicaid services'\n",
    "                       ,'Continuing Care Retirement Community','Abuse Icon','Most Recent Health Inspection More Than 2 Years Ago',\n",
    "                        'Provider Changed Ownership in Last 12 Months'\n",
    "                       ,'Automatic Sprinkler Systems in All Required Areas'])\n",
    "data.shape"
   ]
  },
  {
   "cell_type": "code",
   "execution_count": 4,
   "metadata": {},
   "outputs": [],
   "source": [
    "x=data.iloc[:,:-1]\n",
    "x=pd.get_dummies(x,columns=['Ownership Type',\n",
    "                            \n",
    "                           'With a Resident and Family Council'\n",
    "                           ])\n",
    "\n",
    "y=data.iloc[:,-1]\n",
    "\n",
    "x_train, x_test,y_train,y_test=train_test_split(x,y,test_size=0.2,random_state=12345678,shuffle=True)\n",
    "\n",
    "from sklearn.preprocessing import StandardScaler\n",
    "scaler=StandardScaler()\n",
    "scaler.fit(x_train)\n",
    "x_train=scaler.transform(x_train)\n",
    "x_test=scaler.transform(x_test)\n"
   ]
  },
  {
   "cell_type": "code",
   "execution_count": 5,
   "metadata": {},
   "outputs": [
    {
     "data": {
      "image/png": "[encoded data removed]",
      "text/plain": [
       "<Figure size 432x288 with 1 Axes>"
      ]
     },
     "metadata": {
      "needs_background": "light"
     },
     "output_type": "display_data"
    },
    {
     "name": "stdout",
     "output_type": "stream",
     "text": [
      "knn with k= 11 58.53341985723556 %\n",
      "[46.658014276443865, 50.35691109669046, 52.04412719013628, 53.47177157689812, 55.67813108371188, 55.54834523036989, 57.17066839714471, 57.68981181051266, 58.14406229720961, 58.53341985723556, 58.2089552238806, 58.273848150551586, 58.33874107722258, 57.81959766385464, 58.40363400389358, 58.33874107722258, 58.468526930564565, 58.40363400389358]\n"
     ]
    }
   ],
   "source": [
    "from sklearn.neighbors import KNeighborsClassifier\n",
    "\n",
    "\n",
    "accuracy=[]\n",
    "for i in range(2,20):\n",
    "    knn=KNeighborsClassifier(n_neighbors=i)\n",
    "    knn.fit(x_train,y_train)\n",
    "    knnA=accuracy_score(y_test,knn.predict(x_test))*100\n",
    "    accuracy.append(knnA)\n",
    "plt.figure()\n",
    "plt.plot(range(2,20),accuracy,'-ok',c='blue',linestyle='dashed',markerfacecolor='red')\n",
    "plt.show()\n",
    "print(\"knn with k=\", accuracy.index(max(accuracy))+2,max(accuracy),\"%\")\n",
    "print(accuracy)\n",
    "#5: 34.97728747566515\n",
    "#8: 38.221933809214796\n",
    "#9:36.794289422452955"
   ]
  },
  {
   "cell_type": "code",
   "execution_count": 6,
   "metadata": {},
   "outputs": [
    {
     "data": {
      "image/png": "[encoded data removed]",
      "text/plain": [
       "<Figure size 432x288 with 1 Axes>"
      ]
     },
     "metadata": {
      "needs_background": "light"
     },
     "output_type": "display_data"
    },
    {
     "name": "stdout",
     "output_type": "stream",
     "text": [
      "knn with k= 6 1.7034393251135627\n",
      "[2.207657365347177, 2.1849448410123298, 1.918883841661259, 1.8020765736534718, 1.7034393251135627, 1.7884490590525632, 1.7125243348475017, 1.7384815055158989, 1.7378325762491889, 1.8150551589876704, 1.8105126541207008, 1.826086956521739, 1.8883841661258922, 1.9240752757949384, 1.900713822193381, 1.9396495781959766, 1.9597663854639844, 1.9740428293316028]\n"
     ]
    }
   ],
   "source": [
    "\n",
    "mse=[]\n",
    "for i in range(2,20):\n",
    "    knn=KNeighborsClassifier(n_neighbors=i)\n",
    "    knn.fit(x_train,y_train)\n",
    "    y_pred = knn.predict(x_test)\n",
    "    knnA=mean_squared_error(y_test, y_pred)\n",
    "    mse.append(knnA)\n",
    "plt.figure()\n",
    "plt.plot(range(2,20),mse,'-ok',c='blue',linestyle='dashed',markerfacecolor='red')\n",
    "plt.title(\"MSE over KNN\")\n",
    "plt.xlabel('k')\n",
    "plt.ylabel('MSE')\n",
    "plt.show()\n",
    "print(\"knn with k=\", mse.index(min(mse))+2,min(mse))\n",
    "print(mse)\n",
    " \n",
    "#5:3.8786502271252434\n",
    "#8:3.8442569759896172\n",
    "#9: 3.972096041531473"
   ]
  },
  {
   "cell_type": "code",
   "execution_count": 15,
   "metadata": {},
   "outputs": [
    {
     "name": "stdout",
     "output_type": "stream",
     "text": [
      "MSE for Elastic Net: 1.169271674972683\n",
      "accuracy for elastic net:  22.19338092147956\n"
     ]
    }
   ],
   "source": [
    "from sklearn.linear_model import ElasticNet\n",
    "\n",
    "en = ElasticNet(random_state=12345678)\n",
    "en.fit(x_train,y_train)\n",
    "y_pred = en.predict(x_test)\n",
    "print('MSE for Elastic Net: '+ str(mean_squared_error(y_test, y_pred)))\n",
    "\n",
    "\n",
    "count=0\n",
    "for i,j in zip(np.round(y_pred),y_test.to_numpy()):\n",
    "    if i==j:\n",
    "        count+=1\n",
    "accuracy=count/len(y_test)*100\n",
    "print('accuracy for elastic net: ',accuracy)\n",
    "#print(np.round(y_pred),y_test.to_numpy())"
   ]
  },
  {
   "cell_type": "code",
   "execution_count": 8,
   "metadata": {},
   "outputs": [
    {
     "name": "stdout",
     "output_type": "stream",
     "text": [
      "random forest accuracy 99.1563919532771 %\n",
      "MSE for rf: 1.169271674972683\n"
     ]
    }
   ],
   "source": [
    "#random f\n",
    "from sklearn.ensemble import RandomForestClassifier\n",
    "rf_clf = RandomForestClassifier(random_state=12345678).fit(x_train,y_train)\n",
    "y_predict_train=rf_clf.predict(x_train)\n",
    "y_predict_test=rf_clf.predict(x_test)\n",
    "#print(\"train set accuracy \",accuracy_score(y_train,y_predict_train)*100)\n",
    "print(\"random forest accuracy\", accuracy_score(y_test,y_predict_test )*100,\"%\")\n",
    "print('MSE for rf: '+ str(mean_squared_error(y_test, y_pred)))"
   ]
  },
  {
   "cell_type": "code",
   "execution_count": 9,
   "metadata": {},
   "outputs": [
    {
     "name": "stdout",
     "output_type": "stream",
     "text": [
      "svm accuracy 87.86502271252434 %\n",
      "MSE for svm: 0.3575600259571707\n"
     ]
    }
   ],
   "source": [
    "#SVM\n",
    "from sklearn.svm import SVC\n",
    "scaler1=StandardScaler().fit(x_train)\n",
    "        \n",
    "scaled_x_train=scaler1.transform(x_train)\n",
    "scaled_x_test=scaler1.transform(x_test)\n",
    "svm=SVC(gamma='auto').fit(scaled_x_train,y_train)\n",
    "y_pred=svm.predict(x_test)\n",
    "svm_accu=accuracy_score(y_test,y_pred)\n",
    "print(\"svm accuracy\",svm_accu*100,\"%\")\n",
    "print('MSE for svm: '+ str(mean_squared_error(y_test, y_pred)))"
   ]
  },
  {
   "cell_type": "code",
   "execution_count": 10,
   "metadata": {
    "scrolled": true
   },
   "outputs": [
    {
     "name": "stdout",
     "output_type": "stream",
     "text": [
      "MSE for Lasso: 0.4213863984744125\n",
      "accuracy for Lasso:  62.751460090850095\n"
     ]
    }
   ],
   "source": [
    "#Lasso \n",
    "from sklearn.linear_model import LassoCV\n",
    "from sklearn.linear_model import RidgeCV\n",
    "from sklearn.tree import DecisionTreeClassifier\n",
    "from sklearn.neural_network import MLPClassifier\n",
    "from sklearn.naive_bayes import GaussianNB\n",
    "lasso_clf = LassoCV(cv=5, random_state=12345678).fit(x_train, y_train)\n",
    "y_pred = lasso_clf.predict(x_test)\n",
    "#print(\"Lasso accuracy\",accuracy_score(y_test,y_pred))\n",
    "print('MSE for Lasso: '+ str(mean_squared_error(y_test, y_pred)))\n",
    "count=0\n",
    "for i,j in zip(np.round(y_pred),y_test.to_numpy()):\n",
    "    if i==j:\n",
    "        count+=1\n",
    "accuracy=count/len(y_test)*100\n",
    "print('accuracy for Lasso: ',accuracy)"
   ]
  },
  {
   "cell_type": "code",
   "execution_count": 11,
   "metadata": {},
   "outputs": [
    {
     "name": "stdout",
     "output_type": "stream",
     "text": [
      "MSE for Ridge: 0.41959185091287626\n",
      "accuracy for ridge:  62.297209604153146\n"
     ]
    }
   ],
   "source": [
    "#ridge\n",
    "ridge_clf = RidgeCV(alphas=[1e-3, 1e-2, 1e-1, 1]).fit(x_train, y_train)\n",
    "y_pred = ridge_clf.predict(x_test)\n",
    "#print(\"Ridge accuracy\",accuracy_score(y_test,y_pred))\n",
    "print('MSE for Ridge: '+ str(mean_squared_error(y_test, y_pred)))\n",
    "count=0\n",
    "for i,j in zip(y_pred,y_test.to_numpy()):\n",
    "    if i==j:\n",
    "        count+=1\n",
    "accuracy=count/len(y_test)*100\n",
    "count=0\n",
    "for i,j in zip(np.round(y_pred),y_test.to_numpy()):\n",
    "    if i==j:\n",
    "        count+=1\n",
    "accuracy=count/len(y_test)*100\n",
    "print('accuracy for ridge: ',accuracy)"
   ]
  },
  {
   "cell_type": "code",
   "execution_count": 12,
   "metadata": {},
   "outputs": [
    {
     "name": "stdout",
     "output_type": "stream",
     "text": [
      "MSE for Naive Bayes: 1.9740428293316028\n",
      "NB accuracy 58.40363400389358 %\n"
     ]
    }
   ],
   "source": [
    "#Naive Bayes\n",
    "bayes=GaussianNB()\n",
    "bayes.fit(x_train, y_train)\n",
    "y_pred = knn.predict(x_test)\n",
    "print('MSE for Naive Bayes: '+ str(mean_squared_error(y_test, y_pred)))\n",
    "print(\"NB accuracy\",accuracy_score(y_test,y_pred)*100,\"%\")"
   ]
  },
  {
   "cell_type": "code",
   "execution_count": 13,
   "metadata": {},
   "outputs": [
    {
     "name": "stdout",
     "output_type": "stream",
     "text": [
      "MSE for Decision Tree: 0.0\n",
      "accuracy for Decision Tree:  100.0\n"
     ]
    }
   ],
   "source": [
    "#DT\n",
    "cart_clf = DecisionTreeClassifier(max_depth=100, random_state=12345678).fit(x_train, y_train)\n",
    "y_pred = cart_clf.predict(x_test)\n",
    "print('MSE for Decision Tree: '+ str(mean_squared_error(y_test, y_pred)))\n",
    "count=0\n",
    "for i,j in zip(np.round(y_pred),y_test.to_numpy()):\n",
    "    if i==j:\n",
    "        count+=1\n",
    "accuracy=count/len(y_test)*100\n",
    "print('accuracy for Decision Tree: ',accuracy)\n"
   ]
  },
  {
   "cell_type": "code",
   "execution_count": 14,
   "metadata": {},
   "outputs": [
    {
     "name": "stdout",
     "output_type": "stream",
     "text": [
      "NN accuracy 94.28942245295264 %\n",
      "MSE for Neural Network 0.08241401687216093\n"
     ]
    }
   ],
   "source": [
    "#NN\n",
    "mlp = MLPClassifier(hidden_layer_sizes=(100,20), max_iter=5000,activation = 'relu',solver='adam')\n",
    "mlp.fit(x_train, y_train)\n",
    "y_pred = mlp.predict(x_test)\n",
    "print(\"NN accuracy\",accuracy_score(y_test,y_pred)*100,\"%\")\n",
    "print('MSE for Neural Network '+str(mean_squared_error(y_test, y_pred)))\n",
    "\n"
   ]
  }
 ],
 "metadata": {
  "kernelspec": {
   "display_name": "Python 3",
   "language": "python",
   "name": "python3"
  },
  "language_info": {
   "codemirror_mode": {
    "name": "ipython",
    "version": 3
   },
   "file_extension": ".py",
   "mimetype": "text/x-python",
   "name": "python",
   "nbconvert_exporter": "python",
   "pygments_lexer": "ipython3",
   "version": "3.7.3"
  }
 },
 "nbformat": 4,
 "nbformat_minor": 4
}
